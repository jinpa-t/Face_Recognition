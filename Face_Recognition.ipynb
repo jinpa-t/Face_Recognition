{
  "nbformat": 4,
  "nbformat_minor": 0,
  "metadata": {
    "colab": {
      "name": "Face Recognition",
      "provenance": [],
      "collapsed_sections": [],
      "authorship_tag": "ABX9TyOZaI0StNJ0EC7QOazUBpZ8",
      "include_colab_link": true
    },
    "kernelspec": {
      "name": "python3",
      "display_name": "Python 3"
    },
    "language_info": {
      "name": "python"
    },
    "accelerator": "GPU"
  },
  "cells": [
    {
      "cell_type": "markdown",
      "metadata": {
        "id": "view-in-github",
        "colab_type": "text"
      },
      "source": [
        "<a href=\"https://colab.research.google.com/github/tseringj/Face_Recognition/blob/main/Face_Recognition.ipynb\" target=\"_parent\"><img src=\"https://colab.research.google.com/assets/colab-badge.svg\" alt=\"Open In Colab\"/></a>"
      ]
    },
    {
      "cell_type": "code",
      "metadata": {
        "id": "pVAlzMIv0CYv"
      },
      "source": [
        "!mkdir known\n",
        "!mkdir unknown\n",
        "#put know image inside the known folder\n",
        "#put unknown image inside the unknown folder"
      ],
      "execution_count": null,
      "outputs": []
    },
    {
      "cell_type": "code",
      "metadata": {
        "id": "sUDZR6B2eCda"
      },
      "source": [
        "pip install face_recognition"
      ],
      "execution_count": null,
      "outputs": []
    },
    {
      "cell_type": "code",
      "metadata": {
        "id": "Jyj8yOjObtTC"
      },
      "source": [
        "import face_recognition\n",
        "import cv2\n",
        "import os\n",
        "from google.colab.patches import cv2_imshow\n",
        "\n",
        "def read_img(path):\n",
        "  img = cv2.imread(path)\n",
        "  (h,w) = img.shape[:2]\n",
        "  width = 500\n",
        "  ratio = width/ float(w)\n",
        "  height = int(h * ratio)\n",
        "  return cv2.resize(img,(width,height))\n",
        "known_encodings = []\n",
        "known_name = []\n",
        "#known encoding\n",
        "known_dir = 'known'\n",
        "for file in os.listdir(known_dir):\n",
        "  img = read_img(known_dir + '/' + file)\n",
        "  img_enc = face_recognition.face_encodings(img)[0]\n",
        "  known_encodings.append(img_enc)\n",
        "  known_name.append(file.split('.')[0])\n",
        "\n",
        "#unknown encoding\n",
        "unknown_dir = 'unknown'\n",
        "for file in os.listdir(unknown_dir):\n",
        "  print(\"Processing:\",file)\n",
        "  img = read_img(unknown_dir + '/' + file)\n",
        "  img_enc = face_recognition.face_encodings(img)[0]\n",
        "  \n",
        "  results = face_recognition.compare_faces(known_encodings,img_enc)\n",
        "\n",
        "  for i in range(len(results)):\n",
        "    if results[i]:\n",
        "      name = known_name[i]\n",
        "      (top,right,bottom,left) = face_recognition.face_locations(img)[0]\n",
        "      cv2.rectangle(img,(left,top),(right,bottom),(0,0,255),2)\n",
        "      cv2.putText(img,name,(left+2,bottom+20),cv2.FONT_HERSHEY_PLAIN,1,(255,0,255),1)\n",
        "      cv2_imshow(img)\n"
      ],
      "execution_count": null,
      "outputs": []
    }
  ]
}